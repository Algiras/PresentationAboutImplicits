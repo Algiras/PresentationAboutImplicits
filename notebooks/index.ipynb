{
 "cells": [
  {
   "cell_type": "markdown",
   "metadata": {},
   "source": [
    "# Implicit Induction Primer"
   ]
  },
  {
   "cell_type": "markdown",
   "metadata": {},
   "source": [
    "## Familiar inductions"
   ]
  },
  {
   "cell_type": "code",
   "execution_count": 5,
   "metadata": {},
   "outputs": [
    {
     "data": {
      "text/plain": [
       "defined \u001b[32mfunction\u001b[39m \u001b[36mfact\u001b[39m\n",
       "defined \u001b[32mfunction\u001b[39m \u001b[36mlength\u001b[39m\n",
       "defined \u001b[32mfunction\u001b[39m \u001b[36mmap\u001b[39m"
      ]
     },
     "execution_count": 5,
     "metadata": {},
     "output_type": "execute_result"
    }
   ],
   "source": [
    "def fact(num: Int): Option[Int] = num match  {\n",
    "  case nr if nr < 0 => None\n",
    "  case 0 => Some(1) // base case\n",
    "  case nr => fact(nr - 1).map(_ * nr) // inductive step\n",
    "}\n",
    "\n",
    "def length[A](list: List[A]): Int = list match {\n",
    "  case Nil => 0\n",
    "  case _ :: xs => 1 + length(xs)\n",
    "}\n",
    "\n",
    "def map[A, B](list: List[A], fn: A => B): List[B] = list match {\n",
    "  case Nil => Nil\n",
    "  case x :: xs => fn(x) :: map(xs, fn)\n",
    "}"
   ]
  },
  {
   "cell_type": "code",
   "execution_count": 8,
   "metadata": {},
   "outputs": [
    {
     "data": {
      "text/plain": [
       "\u001b[36mres7_0\u001b[39m: \u001b[32mBoolean\u001b[39m = true\n",
       "\u001b[36mres7_1\u001b[39m: \u001b[32mBoolean\u001b[39m = true\n",
       "\u001b[36mres7_2\u001b[39m: \u001b[32mBoolean\u001b[39m = true"
      ]
     },
     "execution_count": 8,
     "metadata": {},
     "output_type": "execute_result"
    }
   ],
   "source": [
    "fact(3) == Some(6)\n",
    "length(List(1, 3, 5)) == 3\n",
    "map(List(1, 3, 5), (i: Int) => i + 1) == List(2,4,6)"
   ]
  },
  {
   "cell_type": "markdown",
   "metadata": {},
   "source": [
    "## Type Class Pattern"
   ]
  },
  {
   "cell_type": "code",
   "execution_count": 3,
   "metadata": {},
   "outputs": [
    {
     "data": {
      "text/plain": [
       "defined \u001b[32mtrait\u001b[39m \u001b[36mSquash\u001b[39m\n",
       "defined \u001b[32mobject\u001b[39m \u001b[36mSquash\u001b[39m\n",
       "defined \u001b[32mclass\u001b[39m \u001b[36mSquashy\u001b[39m\n",
       "\u001b[36msquashInt\u001b[39m: \u001b[32mAnyRef\u001b[39m with \u001b[32mSquash\u001b[39m[\u001b[32mInt\u001b[39m] = ammonite.$sess.cmd2$Helper$$anon$1@57c18dea\n",
       "defined \u001b[32mfunction\u001b[39m \u001b[36msquashOption\u001b[39m"
      ]
     },
     "execution_count": 3,
     "metadata": {},
     "output_type": "execute_result"
    }
   ],
   "source": [
    "trait Squash[T] {\n",
    "  def squash(a: T, b: T): T\n",
    "}\n",
    "\n",
    "object Squash {\n",
    "  def apply[T](implicit ev: Squash[T]): Squash[T] = ev\n",
    "}\n",
    "\n",
    "implicit class Squashy[T](value: T)(implicit ev: Squash[T]) {\n",
    "  def squash(another: T): T = ev.squash(value, another)\n",
    "}\n",
    "\n",
    "implicit val squashInt = new Squash[Int] {\n",
    "  override def squash(a: Int, b: Int) = a + b\n",
    "}\n",
    "\n",
    "implicit def squashOption[U](implicit ev: Squash[U]) = new Squash[Option[U]] {\n",
    "  override def squash(a: Option[U], b: Option[U]) = for {\n",
    "    v1 <- a\n",
    "    v2 <- b\n",
    "  } yield ev.squash(v1, v2)\n",
    "}"
   ]
  },
  {
   "cell_type": "code",
   "execution_count": 12,
   "metadata": {},
   "outputs": [
    {
     "data": {
      "text/plain": [
       "\u001b[36mres11_0\u001b[39m: \u001b[32mOption\u001b[39m[\u001b[32mInt\u001b[39m] = \u001b[33mSome\u001b[39m(\u001b[32m4\u001b[39m)\n",
       "\u001b[36mres11_1\u001b[39m: \u001b[32mOption\u001b[39m[\u001b[32mInt\u001b[39m] = \u001b[33mSome\u001b[39m(\u001b[32m4\u001b[39m)\n",
       "\u001b[36mres11_2\u001b[39m: \u001b[32mOption\u001b[39m[\u001b[32mInt\u001b[39m] = \u001b[33mSome\u001b[39m(\u001b[32m3\u001b[39m)"
      ]
     },
     "execution_count": 12,
     "metadata": {},
     "output_type": "execute_result"
    }
   ],
   "source": [
    "implicitly[Squash[Option[Int]]].squash(Some(1), Some(3))\n",
    "\n",
    "Squash[Option[Int]].squash(Some(1), Some(3))\n",
    "\n",
    "Option(1) squash Option(2)"
   ]
  },
  {
   "cell_type": "markdown",
   "metadata": {},
   "source": [
    "Let's move to the next Notebook [*tuple.ipynb*](tuple.ipynb)"
   ]
  }
 ],
 "metadata": {
  "kernelspec": {
   "display_name": "Scala",
   "language": "scala",
   "name": "scala"
  },
  "language_info": {
   "codemirror_mode": "text/x-scala",
   "file_extension": ".scala",
   "mimetype": "text/x-scala",
   "name": "scala",
   "nbconvert_exporter": "script",
   "version": "2.12.8"
  }
 },
 "nbformat": 4,
 "nbformat_minor": 2
}
