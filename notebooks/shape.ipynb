{
 "cells": [
  {
   "cell_type": "markdown",
   "metadata": {},
   "source": [
    "# Using Shapeless to derive instances"
   ]
  },
  {
   "cell_type": "code",
   "execution_count": 1,
   "metadata": {},
   "outputs": [
    {
     "data": {
      "text/plain": [
       "\u001b[32mimport \u001b[39m\u001b[36m$ivy.$                             , shapeless._\u001b[39m"
      ]
     },
     "execution_count": 1,
     "metadata": {},
     "output_type": "execute_result"
    }
   ],
   "source": [
    "import $ivy.`com.chuusai::shapeless:2.3.3`, shapeless._"
   ]
  },
  {
   "cell_type": "code",
   "execution_count": 2,
   "metadata": {},
   "outputs": [
    {
     "data": {
      "text/plain": [
       "defined \u001b[32mtrait\u001b[39m \u001b[36mOrdering\u001b[39m\n",
       "defined \u001b[32mobject\u001b[39m \u001b[36mOrdering\u001b[39m\n",
       "\u001b[36mcompareInt\u001b[39m: \u001b[32mOrdering\u001b[39m[\u001b[32mInt\u001b[39m] = ammonite.$sess.cmd1$Helper$$anonfun$1@36dd0f20\n",
       "\u001b[36mcompareString\u001b[39m: \u001b[32mOrdering\u001b[39m[\u001b[32mString\u001b[39m] = ammonite.$sess.cmd1$Helper$$anonfun$2@180aee83"
      ]
     },
     "execution_count": 2,
     "metadata": {},
     "output_type": "execute_result"
    }
   ],
   "source": [
    "trait Ordering[A] {\n",
    "  def compare(left: A, right: A): Int\n",
    "}\n",
    "\n",
    "object Ordering {\n",
    "  def apply[A](implicit ev: Ordering[A]): Ordering[A] = ev\n",
    "}\n",
    "\n",
    "implicit val compareInt: Ordering[Int] = (left: Int, right: Int) => left - right\n",
    "\n",
    "implicit val compareString: Ordering[String] = (left: String, right: String) => {\n",
    "  if(left.length == right.length) {\n",
    "    left.zip(right).zipWithIndex.find { case ((l, r), _) => l != r }.map(_._2 + 1).getOrElse(0)\n",
    "  } else math.min(left.length, right.length) + 1\n",
    "}"
   ]
  },
  {
   "cell_type": "markdown",
   "metadata": {},
   "source": [
    "# Base Case"
   ]
  },
  {
   "cell_type": "code",
   "execution_count": 3,
   "metadata": {},
   "outputs": [
    {
     "data": {
      "text/plain": [
       "\u001b[36mcompareHNil\u001b[39m: \u001b[32mOrdering\u001b[39m[\u001b[32mHNil\u001b[39m] = ammonite.$sess.cmd2$Helper$$anonfun$1@5f75e794"
      ]
     },
     "execution_count": 3,
     "metadata": {},
     "output_type": "execute_result"
    }
   ],
   "source": [
    "implicit val compareHNil: Ordering[HNil] = (_: HNil, _: HNil) => 0"
   ]
  },
  {
   "cell_type": "markdown",
   "metadata": {},
   "source": [
    "# Implicit Step"
   ]
  },
  {
   "cell_type": "code",
   "execution_count": 4,
   "metadata": {},
   "outputs": [
    {
     "data": {
      "text/plain": [
       "defined \u001b[32mfunction\u001b[39m \u001b[36mcompareHList\u001b[39m"
      ]
     },
     "execution_count": 4,
     "metadata": {},
     "output_type": "execute_result"
    }
   ],
   "source": [
    "implicit def compareHList[Head, Tail <: HList](implicit\n",
    "                                               headCompare: Ordering[Head],\n",
    "                                               tailCompare: Ordering[Tail]) = new Ordering[Head :: Tail] {\n",
    "  override def compare(left: Head :: Tail, right: Head :: Tail) = {\n",
    "    val leftC = headCompare.compare(left.head, right.head)\n",
    "    lazy val rightC = tailCompare.compare(left.tail, right.tail)\n",
    "\n",
    "    if(leftC == 0) rightC else leftC\n",
    "  }\n",
    "}"
   ]
  },
  {
   "cell_type": "markdown",
   "metadata": {},
   "source": [
    "## Implicit Case Class Derivation"
   ]
  },
  {
   "cell_type": "code",
   "execution_count": 5,
   "metadata": {},
   "outputs": [
    {
     "data": {
      "text/plain": [
       "defined \u001b[32mfunction\u001b[39m \u001b[36mcompareCaseClasses\u001b[39m"
      ]
     },
     "execution_count": 5,
     "metadata": {},
     "output_type": "execute_result"
    }
   ],
   "source": [
    "implicit def compareCaseClasses[CC, HL <: HList](implicit gen: Generic.Aux[CC, HL],\n",
    "                                           hListC: Ordering[HL]): Ordering[CC] = new Ordering[CC] {\n",
    "  override def compare(left: CC, right: CC): Int = {\n",
    "    val lHL = gen.to(left)\n",
    "    val rHl = gen.to(right)\n",
    "\n",
    "    hListC.compare(lHL, rHl)\n",
    "  }\n",
    "}"
   ]
  },
  {
   "cell_type": "code",
   "execution_count": 6,
   "metadata": {},
   "outputs": [
    {
     "data": {
      "text/plain": [
       "defined \u001b[32mclass\u001b[39m \u001b[36mUser\u001b[39m\n",
       "\u001b[36mtransformer\u001b[39m: \u001b[32mGeneric\u001b[39m[\u001b[32mUser\u001b[39m]{type Repr = String :: Int :: shapeless.HNil} = ammonite.$sess.cmd5$Helper$anon$macro$3$1@66980d0a\n",
       "\u001b[36mres5_2\u001b[39m: \u001b[32mUser\u001b[39m = \u001b[33mUser\u001b[39m(\u001b[32m\"name\"\u001b[39m, \u001b[32m42\u001b[39m)\n",
       "\u001b[36mres5_3\u001b[39m: \u001b[32mtransformer\u001b[39m.\u001b[32mRepr\u001b[39m = \u001b[32m\"name\"\u001b[39m :: \u001b[32m42\u001b[39m :: HNil\n",
       "\u001b[36mres5_4\u001b[39m: \u001b[32mInt\u001b[39m = \u001b[32m-1\u001b[39m\n",
       "\u001b[36mres5_5\u001b[39m: \u001b[32mInt\u001b[39m = \u001b[32m0\u001b[39m\n",
       "\u001b[36mres5_6\u001b[39m: \u001b[32mInt\u001b[39m = \u001b[32m0\u001b[39m\n",
       "\u001b[36mres5_7\u001b[39m: \u001b[32mInt\u001b[39m = \u001b[32m1\u001b[39m"
      ]
     },
     "execution_count": 6,
     "metadata": {},
     "output_type": "execute_result"
    }
   ],
   "source": [
    "case class User(name: String, age: Int)\n",
    "\n",
    "val transformer = Generic[User]\n",
    "\n",
    "transformer.from(HList(\"name\", 42))\n",
    "transformer.to(User(\"name\", 42))\n",
    "\n",
    "Ordering[String :: Int :: HNil].compare(HList(\"name\", 42), HList(\"name\", 43))\n",
    "\n",
    "Ordering[Int].compare(1, 1)\n",
    "Ordering[String].compare(\"a\", \"a\")\n",
    "Ordering[User].compare(User(\"name\", 42), User(\"\", 42))"
   ]
  },
  {
   "cell_type": "code",
   "execution_count": 7,
   "metadata": {},
   "outputs": [
    {
     "data": {
      "text/plain": [
       "defined \u001b[32mclass\u001b[39m \u001b[36mOther\u001b[39m\n",
       "\u001b[36mtransformer2\u001b[39m: \u001b[32mGeneric\u001b[39m[\u001b[32mOther\u001b[39m]{type Repr = Long :: cmd6.this.cmd5.User :: shapeless.HNil} = ammonite.$sess.cmd6$Helper$anon$macro$3$1@68cfcce9"
      ]
     },
     "execution_count": 7,
     "metadata": {},
     "output_type": "execute_result"
    }
   ],
   "source": [
    "case class Other(a: Long, b: User)\n",
    "\n",
    "val transformer2 = Generic[Other]\n",
    "\n",
    "//Ordering[Other].compare(Other(1, User(\"a\", 1)), Other(1, User(\"a\", 2))) // Will not work becasuse we don't have Ordering instance of `Long`"
   ]
  },
  {
   "cell_type": "markdown",
   "metadata": {},
   "source": [
    "## Case Class Transformation"
   ]
  },
  {
   "cell_type": "code",
   "execution_count": 8,
   "metadata": {},
   "outputs": [
    {
     "data": {
      "text/plain": [
       "defined \u001b[32mtrait\u001b[39m \u001b[36mTransform\u001b[39m\n",
       "defined \u001b[32mfunction\u001b[39m \u001b[36mtransformCaseClasses\u001b[39m\n",
       "defined \u001b[32mclass\u001b[39m \u001b[36mPerson\u001b[39m"
      ]
     },
     "execution_count": 8,
     "metadata": {},
     "output_type": "execute_result"
    }
   ],
   "source": [
    "trait Transform[A, B] {\n",
    "  def from(v: A): B\n",
    "  def to(v: B): A\n",
    "}\n",
    "\n",
    "implicit def transformCaseClasses[CC1, CC2, HL <: HList](implicit gen1: Generic.Aux[CC1, HL],\n",
    "                                                         gen2: Generic.Aux[CC2, HL]) = new Transform[CC1, CC2] {\n",
    "  override def from(v: CC1) = {\n",
    "    gen2.from(gen1.to(v))\n",
    "  }\n",
    "\n",
    "  override def to(v: CC2) = {\n",
    "    gen1.from(gen2.to(v))\n",
    "  }\n",
    "}\n",
    "\n",
    "case class Person(name: String, age: Int)"
   ]
  },
  {
   "cell_type": "code",
   "execution_count": 9,
   "metadata": {},
   "outputs": [
    {
     "data": {
      "text/plain": [
       "\u001b[36mres8_0\u001b[39m: \u001b[32mPerson\u001b[39m = \u001b[33mPerson\u001b[39m(\u001b[32m\"A\"\u001b[39m, \u001b[32m1\u001b[39m)\n",
       "\u001b[36mres8_1\u001b[39m: \u001b[32mUser\u001b[39m = \u001b[33mUser\u001b[39m(\u001b[32m\"A\"\u001b[39m, \u001b[32m1\u001b[39m)"
      ]
     },
     "execution_count": 9,
     "metadata": {},
     "output_type": "execute_result"
    }
   ],
   "source": [
    "implicitly[Transform[User,Person]].from(User(\"A\", 1))\n",
    "implicitly[Transform[User,Person]].to(Person(\"A\", 1)) "
   ]
  }
 ],
 "metadata": {
  "kernelspec": {
   "display_name": "Scala",
   "language": "scala",
   "name": "scala"
  },
  "language_info": {
   "codemirror_mode": "text/x-scala",
   "file_extension": ".scala",
   "mimetype": "text/x-scala",
   "name": "scala",
   "nbconvert_exporter": "script",
   "version": "2.12.8"
  }
 },
 "nbformat": 4,
 "nbformat_minor": 2
}
