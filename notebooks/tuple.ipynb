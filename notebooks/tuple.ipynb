{
 "cells": [
  {
   "cell_type": "markdown",
   "metadata": {},
   "source": [
    "# Basic Implicit Induction using Tuples"
   ]
  },
  {
   "cell_type": "markdown",
   "metadata": {},
   "source": [
    "## Defining Type Class"
   ]
  },
  {
   "cell_type": "code",
   "execution_count": 3,
   "metadata": {},
   "outputs": [
    {
     "data": {
      "text/plain": [
       "defined \u001b[32mtrait\u001b[39m \u001b[36mOrdering\u001b[39m\n",
       "defined \u001b[32mobject\u001b[39m \u001b[36mOrdering\u001b[39m"
      ]
     },
     "execution_count": 3,
     "metadata": {},
     "output_type": "execute_result"
    }
   ],
   "source": [
    "trait Ordering[A] {\n",
    "  def compare(left: A, right: A): Int\n",
    "}\n",
    "\n",
    "object Ordering {\n",
    "  def apply[A](implicit ev: Ordering[A]): Ordering[A] = ev\n",
    "}"
   ]
  },
  {
   "cell_type": "markdown",
   "metadata": {},
   "source": [
    "## Simple Instances"
   ]
  },
  {
   "cell_type": "code",
   "execution_count": 4,
   "metadata": {},
   "outputs": [
    {
     "data": {
      "text/plain": [
       "\u001b[36mcompareInt\u001b[39m: \u001b[32mOrdering\u001b[39m[\u001b[32mInt\u001b[39m] = ammonite.$sess.cmd3$Helper$$anon$1@a71cc5c\n",
       "\u001b[36mcompareString\u001b[39m: \u001b[32mOrdering\u001b[39m[\u001b[32mString\u001b[39m] = ammonite.$sess.cmd3$Helper$$anon$2@2d5abb68"
      ]
     },
     "execution_count": 4,
     "metadata": {},
     "output_type": "execute_result"
    }
   ],
   "source": [
    "implicit val compareInt: Ordering[Int] = new Ordering[Int] {\n",
    "  override def compare(left: Int, right: Int): Int = left - right\n",
    "}\n",
    "\n",
    "implicit val compareString: Ordering[String] = new Ordering[String] {\n",
    "  override def compare(left: String, right: String): Int = left.length - right.length\n",
    "}"
   ]
  },
  {
   "cell_type": "code",
   "execution_count": 6,
   "metadata": {},
   "outputs": [
    {
     "data": {
      "text/plain": [
       "\u001b[36mres5_0\u001b[39m: \u001b[32mInt\u001b[39m = \u001b[32m0\u001b[39m\n",
       "\u001b[36mres5_1\u001b[39m: \u001b[32mInt\u001b[39m = \u001b[32m-1\u001b[39m"
      ]
     },
     "execution_count": 6,
     "metadata": {},
     "output_type": "execute_result"
    }
   ],
   "source": [
    "Ordering[Int].compare(1, 1)\n",
    "Ordering[String].compare(\"a\", \"ab\")"
   ]
  },
  {
   "cell_type": "markdown",
   "metadata": {},
   "source": [
    "## More complex instance"
   ]
  },
  {
   "cell_type": "code",
   "execution_count": 10,
   "metadata": {},
   "outputs": [
    {
     "data": {
      "text/plain": [
       "defined \u001b[32mtype\u001b[39m \u001b[36mUser\u001b[39m\n",
       "\u001b[36mcompareUser\u001b[39m: \u001b[32mOrdering\u001b[39m[(\u001b[32mString\u001b[39m, \u001b[32mInt\u001b[39m)] = ammonite.$sess.cmd9$Helper$$anon$1@649bb160"
      ]
     },
     "execution_count": 10,
     "metadata": {},
     "output_type": "execute_result"
    }
   ],
   "source": [
    "type User = (String, Int)\n",
    "\n",
    "implicit val compareUser: Ordering[User] = new Ordering[(String, Int)] {\n",
    "  override def compare(left: (String, Int), right: (String, Int)): Int = {\n",
    "    val comp1 = Ordering[String].compare(left._1, right._1)\n",
    "    val comp2 = Ordering[Int].compare(left._2, right._2)\n",
    "\n",
    "    if(comp1 != 0) comp1 else comp2\n",
    "  }\n",
    "}"
   ]
  },
  {
   "cell_type": "code",
   "execution_count": 11,
   "metadata": {},
   "outputs": [
    {
     "data": {
      "text/plain": [
       "\u001b[36mres10\u001b[39m: \u001b[32mInt\u001b[39m = \u001b[32m0\u001b[39m"
      ]
     },
     "execution_count": 11,
     "metadata": {},
     "output_type": "execute_result"
    }
   ],
   "source": [
    "Ordering[User].compare((\"a\", 1), (\"b\", 1))"
   ]
  },
  {
   "cell_type": "markdown",
   "metadata": {},
   "source": [
    "## Inductive approach"
   ]
  },
  {
   "cell_type": "code",
   "execution_count": 12,
   "metadata": {},
   "outputs": [
    {
     "data": {
      "text/plain": [
       "defined \u001b[32mfunction\u001b[39m \u001b[36minductionStep\u001b[39m"
      ]
     },
     "execution_count": 12,
     "metadata": {},
     "output_type": "execute_result"
    }
   ],
   "source": [
    "implicit def inductionStep[Head, Marioska](implicit\n",
    "               headCompare: Ordering[Head],\n",
    "               tailCompare: Ordering[Marioska]) = new Ordering[(Head, Marioska)] {\n",
    "  override def compare(left: (Head, Marioska), right: (Head, Marioska)) = {\n",
    "    val comp1 = Ordering[Head].compare(left._1, right._1)\n",
    "    val comp2 = Ordering[Marioska].compare(left._2, right._2)\n",
    "\n",
    "    if(comp1 == 0) comp2 else comp1\n",
    "  }\n",
    "}"
   ]
  },
  {
   "cell_type": "code",
   "execution_count": 13,
   "metadata": {},
   "outputs": [
    {
     "data": {
      "text/plain": [
       "\u001b[36mres12_0\u001b[39m: \u001b[32mInt\u001b[39m = \u001b[32m0\u001b[39m\n",
       "\u001b[36mres12_1\u001b[39m: \u001b[32mInt\u001b[39m = \u001b[32m0\u001b[39m"
      ]
     },
     "execution_count": 13,
     "metadata": {},
     "output_type": "execute_result"
    }
   ],
   "source": [
    "Ordering[(String, (String, Int))].compare((\"a\", (\"b\", 1)), (\"a\", (\"a\", 1)))\n",
    "Ordering[(String, (String, Int))].compare((\"a\", (\"b\", 1)), (\"a\", (\"a\", 1)))"
   ]
  },
  {
   "cell_type": "markdown",
   "metadata": {},
   "source": [
    "Let's move to the next Notebook [*shape.ipynb*](shape.ipynb)"
   ]
  }
 ],
 "metadata": {
  "kernelspec": {
   "display_name": "Scala",
   "language": "scala",
   "name": "scala"
  },
  "language_info": {
   "codemirror_mode": "text/x-scala",
   "file_extension": ".scala",
   "mimetype": "text/x-scala",
   "name": "scala",
   "nbconvert_exporter": "script",
   "version": "2.12.8"
  }
 },
 "nbformat": 4,
 "nbformat_minor": 2
}
